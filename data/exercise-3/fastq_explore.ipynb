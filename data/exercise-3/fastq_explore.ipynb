{
 "cells": [
  {
   "cell_type": "markdown",
   "metadata": {},
   "source": [
    "#Exploring and trimming of fastq data\n",
    "\n",
    "\n",
    "__How to display at the first 12 lines of a gzipped file?__\n",
    "\n",
    "The pipe symbol `|` is an extremely powerful function to pass the output from one command directly to the next command. This is often referred to as 'piping'.\n",
    "\n"
   ]
  },
  {
   "cell_type": "code",
   "execution_count": 4,
   "metadata": {
    "collapsed": false
   },
   "outputs": [
    {
     "name": "stdout",
     "output_type": "stream",
     "text": [
      "@M02538:27:000000000-ACTEL:1:1101:9229:1157 1:N:0:1\r\n",
      "CAGGAACATATAATGGCAAGCCTACGAAAAACGCACCCCCTACTAAAAATCGCTAACAATGCACTAGTCGACCTCCCCGCCCCCTCAAATATTTCAGTAGGATGAAACTTTGGGTCCCTCCTTGGAGTTTTCTTAATTATTCAAAATCCCACTGGGCTTTTCCTTTCAAAACACTACACTTCCGATATTGCTAAAGCTTTTTCTCCCGTCGGACATATCTGCCGAGAAGTAAATTAAGGTTGAATAATTCTAAACCCCCATTCCAATGGGCAATCACTTTTTTTCATCTTGAATCTAATA\r\n",
      "+\r\n",
      "CCCCCGGGGGFGGGGGGFFGGGGGGGGGGGGGGGGGGEGGGGGFGFGGGGGECEFGGDD<CFGGGGGGGGDGGG,CFG7>FGGG7,:EB<AEFF?<,<,,,55,BFDBEFGF,+@AEG9EFDFGF8,@FF,,7C,A@FE,,C<EE,@>,@A:A:DC,DF?FDFGF,,,@8,@E,6@=DCA83@4+++422@7A,+,,4A8*A0++23*@/***///+++4+1;)0//)21+3++1:)2*+/5))1)9<7?+)9<.(((..,))16:<?:(/*(,.,(.:).)-,.))-)))))))-).))\r\n",
      "@M02538:27:000000000-ACTEL:1:1101:16424:1187 1:N:0:1\r\n",
      "CAGGAACTAATGGCAAGCCTACGAAAAACCCACCCACTAATAAAAATCGCTAATGACGCACTAGTCGACCTCCCAACACCATCTAACATTTCAACACTATGAAACTTCGGATCCCTCCTAGGATTATGTTTAATTACCCAAATCCTCACGGGATTATTTCTAGCCATACACTACACCTCTGATATCTCCACCGCATTTTCATCAGTAACCCACATCTGCCGAGACGTTAACTACGGCTGACTTATTCGAAACTTACATGCTAATGGAGCATCATTCTTCTTTATCTTCCTTTATATACAA\r\n",
      "+\r\n",
      "CCCCCGGGGGGGGGGGGGGGGGGGGGGGGGGGGGGGGGGGGGGGGGGGGGGGGGGGGGGGGGGGGGGGGGGGGGGGGGGGGGGGGGGGGGGGGGGGGGGGGGGGGGGGGGGGGGGGGGGGGGGGGGGGGGGGGGGGGGGGGGGGGGGGGGGGGGGGGGGGGGGGGGGGGGGGGGGGGGGGGGGGGGGGGGGGGGGGGGGGGGGFFGGGGFGGGFFFFFFGFGGFFFGFFFFFCF9D=DFFFFFFFFFFF;B9CEFFFFCFC6CFFA38A?;*)7<A<AAAAAA>>4).4<DFFF99)..)\r\n",
      "@M02538:27:000000000-ACTEL:1:1101:8612:1211 1:N:0:1\r\n",
      "CAAAAACCTCTAATGGCAAGCCTCCGAAAAACTCACCCCCTACTAAAAATTGCAAACAACGCACTAGTTGACTTACCCGCCCCTTCTAATATTTCAGTATGATGAAACTTTGGTTCCCTACTTGGCCTCTGTTTAATTACCCAAATCCTAACTGGCCTTTTTCTGGCAATACACTATACCGCAGACATCGCAACAGCCTTTTCATCAGTCGCCCACATTTGACGAAACGTAACATTCGGCTGACCAACTCGACTTTTTCATGCCAATGGTTGATCCTACTTCATTAGTGTCATCTGTATA\r\n",
      "+\r\n",
      "@CCCCEGCFGGGGGGFFEDCFGFGDEGGGG8CFGDCEGGGGGGGGGGFFGD<CDFCCF8<FGGG@EGGGGGF<E<EEFGGGCCGGGGGGAE9,ABAF@EEFGGGFGGFFGFFFFFFDGFCF<F,EFF@8FEGAF4CFFFGG@=BFCE8DEECGGGG89ED@F8DGD,DE8D8D=A8=A?F8>+@@=8FC=@CE>C7E+,=D8CFFGGG7+931**/*9BC9+:****)2)26)1*+0=8?)6)(()//23),((().)())1.;<EEE4?;*()).)-))))).))).)-.)-4)).4))\r\n",
      "\r\n",
      "gzip: stdout: Broken pipe\r\n"
     ]
    }
   ],
   "source": [
    "!gunzip -c data/A01D_S1_L001_R1_001.fastq.gz | head -n 12"
   ]
  },
  {
   "cell_type": "code",
   "execution_count": 6,
   "metadata": {
    "collapsed": false
   },
   "outputs": [
    {
     "name": "stdout",
     "output_type": "stream",
     "text": [
      "@M02538:27:000000000-ACTEL:1:1101:9229:1157 2:N:0:1\r\n",
      "ATGGAAGGACATAACCAACGAAGGCTGTTATTATGACCAAAAGTAGAAGAATCACTCCAATGTTTCAGGATTCTTTGTATAGGTAAGAGCCATAGTAAAGTCCTCGGCCGATATGCATATAGATACAGATGAAGAAAAAGGATGCGCCATTGGCATGGAGGTTTCGAATTAGTCAACCGTAATTTAAATCTCGGCAGATATGTCCGACGGAGGAAAAAGCTGTAACAATATCGGAAGTGTCGGTTATGGGAAGGAGAAGACCAGTGATAATTGGGAAAATAAAAAAAGAGACAAGGAGGG\r\n",
      "+\r\n",
      "CCCCC9,@FGGFGFGGFGGGFGGGGFGFGGFGG<EF,,6CCFFGGGA<DGGG,EF<FGGGGGGGGGGGG,@EEFFBFEFFFGG?FFGGGGGGFGGFEFGGGGGGGGGCGGGEEF9FEFF9EFG9DFGGFGGFFGGFEGFGGC=ECDGEE>>;8?DFDCFFD4,,1=DFF=@:EFFBD=D=DAGFFF+9+*C7DC6?CC*;*02<CBAA>A)0:=AF9-*).A8:*/+37*+/->>2).0**/.(,6)))((./0;(,/3(6(((/).)16))*05((((.)).))-,,-..,((((((,(\r\n",
      "@M02538:27:000000000-ACTEL:1:1101:16424:1187 2:N:0:1\r\n",
      "ATGGAAGTACGTAGCCGACGAAGGCTGTTATTATAACTAGAAGAAATAGGACTACGCCAATATTTCAGGTTTCTTTGTAAAGATATGACCCGTAGTATAGGCCTCGTGCAATATGTATATAAAGGCAGATAAAGAAGAATGATGCTCCATTAGCATGTAAGTTTCGAATAAGTCAGCCGTAGTTAACGTCTCGGCAGATGTGGGTTACTGATGAAAATGCGGTGGAGATATCAGAGGTGTAGTGTATGGCTAGAAATAATCCCGTGAGGGTTTGGGTTATTAAGAATAAATATAAGAGGG\r\n",
      "+\r\n",
      "CCCCCGGGGGGGGGGGGGGGGGGGGGGGGGGGGGGGGGGGGGGGGGGGGGGGGGGGGGGGGGGGGGGGGEGGGGGGGGGGGGGGGGGGGGGGGGGGGGGGGGGGGGGGGGGGGGGGGFGGGGGGCFGGGGFGGGGGCGGGGGGGGDGGGGFG8DFFGGGAFEF;DEEFBDG?FFFFGGG=EE>DBF@BFF=59?>DD=8A7=E:5AB59E7?*7BAFCFC8B>>94*75AAEEF@E?)46=6*(0878@25:9:*1>9@<*8)/,(/87((/25:?0(/7?3<))/4)6)).))))))((\r\n",
      "@M02538:27:000000000-ACTEL:1:1101:8612:1211 2:N:0:1\r\n",
      "AGGGCAGGACGTACCCAACAAAGGCGGTTATTATTACCAGGAGAAGGAGAACAACTCCAATGTTTCATGTTTCTTTGCAAAGATAGGAGCCGTAATATAAACCCCGGCCGATGTGCATATAGATGCAAATAAAGAAGAAGGATGCACCATTGGCATGAATATTTCGAATGCGTCAGACGTAGTTTACGTCTCGGCAAATGTGGGCGACTCATGCAAAGGACTCTGCGCTGTACGCGGTCTAGTGTATTTCCAGAAACAGGCCATTTAGGCATTTGGGAACTAAACACGAGGCTAGCAGAG\r\n",
      "+\r\n",
      "CC<,A<BFGGGCGDFGGGGGGGCFFDG@FEGGGGGGG9FE@D,CFCECECFFCGC<EGGFEGFFGDFGGGGGGGGF9DECGGFFGGGG,:?FFEEFGFF<?,AB7@CDGGDGDF;@F9ECEFGGFG9BF;;9AFEFCEGGGF,6D8>F,6B,,==DFD+,+7ED9,@6*=+30*90,5+)*3@EF7+**1)8AGG>7@CE7777??)5)(01846+1()-0))4**.(.(.)),((:((/))1).-))))6))4(,((..(-((.))).(,)***)-(((.).)(.(-,((((.((.<.,\r\n",
      "\r\n",
      "gzip: stdout: Broken pipe\r\n"
     ]
    }
   ],
   "source": [
    "!zcat -c data/A01D_S1_L001_R2_001.fastq.gz | head -n 12"
   ]
  },
  {
   "cell_type": "markdown",
   "metadata": {},
   "source": [
    "Determine the number of sequences in a fastq file"
   ]
  },
  {
   "cell_type": "code",
   "execution_count": 7,
   "metadata": {
    "collapsed": false
   },
   "outputs": [
    {
     "name": "stdout",
     "output_type": "stream",
     "text": [
      "39025\r\n"
     ]
    }
   ],
   "source": [
    "!zcat data/A01D_S1_L001_R1_001.fastq.gz | sed -n '1~4p' | wc -l"
   ]
  },
  {
   "cell_type": "code",
   "execution_count": 9,
   "metadata": {
    "collapsed": false
   },
   "outputs": [
    {
     "name": "stdout",
     "output_type": "stream",
     "text": [
      "39025\r\n"
     ]
    }
   ],
   "source": [
    "!gunzip -c data/A01D_S1_L001_R1_001.fastq.gz | grep \" 1\"| wc -l"
   ]
  },
  {
   "cell_type": "markdown",
   "metadata": {
    "collapsed": true
   },
   "source": [
    "qality trim to a phred score of Q > 30, discarding sequences of length shorter than 90bp.\n"
   ]
  },
  {
   "cell_type": "code",
   "execution_count": null,
   "metadata": {
    "collapsed": true
   },
   "outputs": [],
   "source": [
    "%%bash\n",
    "gunzip data/A01D_S1_L001_R1_001.fastq.gz\n",
    "fastq_quality_trimmer -Q 33 -t 30 -l 90 -v -i data/A01D_S1_L001_R1_001.fastq -o test1.fastq"
   ]
  },
  {
   "cell_type": "markdown",
   "metadata": {},
   "source": [
    "Alternatively you could use the pipe function also here:"
   ]
  },
  {
   "cell_type": "code",
   "execution_count": null,
   "metadata": {
    "collapsed": true
   },
   "outputs": [],
   "source": [
    "!zcat data/A01D_S1_L001_R1_001.fastq.gz | fastq_quality_trimmer -Q 33 -t 30 -l 90 -v -o test1.fastq"
   ]
  },
  {
   "cell_type": "markdown",
   "metadata": {},
   "source": [
    "Filter all reads with a quality Q<30 in more than 25% of their bases."
   ]
  },
  {
   "cell_type": "code",
   "execution_count": null,
   "metadata": {
    "collapsed": true
   },
   "outputs": [],
   "source": [
    "!zcat data/A01D_S1_L001_R2_001.fastq.gz | fastq_quality_filter -Q 33 -q 30 -p 75 -v -o test2.fastq\n"
   ]
  },
  {
   "cell_type": "markdown",
   "metadata": {},
   "source": [
    "[Trimmomatic](http://www.usadellab.org/cms/?page=trimmomatic) as an example for another efficient software for trimming Illumina data.\n",
    "\n",
    "To run the below command successfully you will have to specify the correctt input files. Can you determine the desired trimming strategy?"
   ]
  },
  {
   "cell_type": "code",
   "execution_count": null,
   "metadata": {
    "collapsed": true
   },
   "outputs": [],
   "source": [
    "\n",
    "\n",
    "java -jar /usr/bin/trimmomatic-0.32.jar PE -phred33 -trimlog trimmomatic.log genomic_1.fastq genomic_2.fastq genomic_trimmomatic_paired_1.fastq genomic_trimmomatic_orphan_1.fastq genomic_trimmomatic_paired_2.fastq genomic_trimmomatic_orphan_2.fastq LEADING:30 TRAILING:30 SLIDINGWINDOW:5:20 MINLEN:90\n"
   ]
  },
  {
   "cell_type": "markdown",
   "metadata": {},
   "source": [
    "flash for read merging"
   ]
  },
  {
   "cell_type": "code",
   "execution_count": null,
   "metadata": {
    "collapsed": true
   },
   "outputs": [],
   "source": [
    "flash -h"
   ]
  },
  {
   "cell_type": "markdown",
   "metadata": {},
   "source": [
    "[vsearch](https://github.com/torognes/vsearch) for read clustering. Note that to perform clustering you'll first have to convert your fastq seqeunces into fasta format.\n",
    "\n",
    "you could do this with this tool:"
   ]
  },
  {
   "cell_type": "code",
   "execution_count": null,
   "metadata": {
    "collapsed": true
   },
   "outputs": [],
   "source": [
    "!fastq_to_fasta -h"
   ]
  },
  {
   "cell_type": "markdown",
   "metadata": {},
   "source": [
    "Then an example could be:"
   ]
  },
  {
   "cell_type": "code",
   "execution_count": null,
   "metadata": {
    "collapsed": true
   },
   "outputs": [],
   "source": [
    "vsearch --cluster_fast your_file.fasta --id 1.00 --centroids your_file_centroids.fasta --uc your_file.uc"
   ]
  }
 ],
 "metadata": {
  "kernelspec": {
   "display_name": "Python 2",
   "language": "python",
   "name": "python2"
  },
  "language_info": {
   "codemirror_mode": {
    "name": "ipython",
    "version": 2
   },
   "file_extension": ".py",
   "mimetype": "text/x-python",
   "name": "python",
   "nbconvert_exporter": "python",
   "pygments_lexer": "ipython2",
   "version": "2.7.6"
  }
 },
 "nbformat": 4,
 "nbformat_minor": 0
}
