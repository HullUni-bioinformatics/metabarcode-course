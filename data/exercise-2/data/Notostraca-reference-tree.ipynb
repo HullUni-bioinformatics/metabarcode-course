{
 "cells": [
  {
   "cell_type": "code",
   "execution_count": 1,
   "metadata": {
    "collapsed": true
   },
   "outputs": [],
   "source": [
    "from reprophylo import *"
   ]
  },
  {
   "cell_type": "markdown",
   "metadata": {},
   "source": [
    "__Genbank file__ containing CO1 seuqences for Notostraca was downloaded. Search term: 'Notostraca[orgn] AND (COI[gene] OR CO1[gene])'"
   ]
  },
  {
   "cell_type": "code",
   "execution_count": 3,
   "metadata": {
    "collapsed": false
   },
   "outputs": [
    {
     "name": "stdout",
     "output_type": "stream",
     "text": [
      "\n",
      "There are 16 gene names (or gene product names) detected\n",
      "----------------------------------\n",
      "Gene and count sorted by gene name\n",
      "----------------------------------\n",
      "1 instances of CDS,ATP6\n",
      "1 instances of CDS,ATP8\n",
      "380 instances of CDS,COI\n",
      "15 instances of CDS,coi\n",
      "1 instances of CDS,COII\n",
      "1 instances of CDS,COIII\n",
      "1 instances of CDS,cytb\n",
      "1 instances of CDS,ND1\n",
      "1 instances of CDS,ND2\n",
      "1 instances of CDS,ND3\n",
      "1 instances of CDS,ND4\n",
      "1 instances of CDS,ND4L\n",
      "1 instances of CDS,ND5\n",
      "1 instances of CDS,ND6\n",
      "1 instances of rRNA,12S rRNA\n",
      "1 instances of rRNA,16S rRNA\n",
      "-------------------------------\n",
      "Gene and count sorted by counts\n",
      "-------------------------------\n",
      "380 instances of CDS,COI\n",
      "15 instances of CDS,coi\n",
      "1 instances of CDS,ATP6\n",
      "1 instances of CDS,ATP8\n",
      "1 instances of CDS,COII\n",
      "1 instances of CDS,COIII\n",
      "1 instances of CDS,cytb\n",
      "1 instances of CDS,ND1\n",
      "1 instances of CDS,ND2\n",
      "1 instances of CDS,ND3\n",
      "1 instances of CDS,ND4\n",
      "1 instances of CDS,ND4L\n",
      "1 instances of CDS,ND5\n",
      "1 instances of CDS,ND6\n",
      "1 instances of rRNA,12S rRNA\n",
      "1 instances of rRNA,16S rRNA\n"
     ]
    }
   ],
   "source": [
    "list_loci_in_genbank('Notostraca_COI.gb', 'Notostraca_COI.csv')"
   ]
  },
  {
   "cell_type": "code",
   "execution_count": 4,
   "metadata": {
    "collapsed": false
   },
   "outputs": [
    {
     "name": "stdout",
     "output_type": "stream",
     "text": [
      "dna,CDS,MT-ATP6,ATP6\r\n",
      "dna,CDS,MT-ATP8,ATP8\r\n",
      "dna,CDS,MT-CO1,COI,coi\r\n",
      "dna,CDS,MT-CO2,COII\r\n",
      "dna,CDS,MT-CO3,COIII\r\n",
      "dna,CDS,MT-CYB,cytb\r\n",
      "dna,CDS,MT-ND1,ND1\r\n",
      "dna,CDS,MT-ND2,ND2\r\n",
      "dna,CDS,MT-ND3,ND3\r\n",
      "dna,CDS,MT-ND4,ND4\r\n",
      "dna,CDS,MT-ND4L,ND4L\r\n",
      "dna,CDS,MT-ND5,ND5\r\n",
      "dna,CDS,MT-ND6,ND6\r\n",
      "dna,rRNA,rrnL,16S rRNA\r\n",
      "dna,rRNA,rrnS,12S rRNA\r\n"
     ]
    }
   ],
   "source": [
    "!cat Notostraca_COI.csv"
   ]
  },
  {
   "cell_type": "code",
   "execution_count": 5,
   "metadata": {
    "collapsed": false
   },
   "outputs": [
    {
     "name": "stdout",
     "output_type": "stream",
     "text": [
      "Writing Notostraca_COI_synonyms.csv\n"
     ]
    }
   ],
   "source": [
    "%%file Notostraca_COI_synonyms.csv\n",
    "dna,CDS,MT-CO1,COI,coi,1"
   ]
  },
  {
   "cell_type": "code",
   "execution_count": 142,
   "metadata": {
    "collapsed": false
   },
   "outputs": [],
   "source": [
    "pj = Project(\"Notostraca_COI_synonyms.csv\", pickle='Notostraca_COI_pickle')"
   ]
  },
  {
   "cell_type": "code",
   "execution_count": 143,
   "metadata": {
    "collapsed": true
   },
   "outputs": [],
   "source": [
    "pj.read_embl_genbank([\"Notostraca_COI.gb\"])"
   ]
  },
  {
   "cell_type": "code",
   "execution_count": 144,
   "metadata": {
    "collapsed": true
   },
   "outputs": [],
   "source": [
    "pj.species_vs_loci(\"Notostraca_species.csv\")"
   ]
  },
  {
   "cell_type": "code",
   "execution_count": 145,
   "metadata": {
    "collapsed": false,
    "scrolled": true
   },
   "outputs": [
    {
     "name": "stdout",
     "output_type": "stream",
     "text": [
      "species                            MT-CO1   \n",
      "Lepidurus apus                     2        \n",
      "Lepidurus apus apus                4        \n",
      "Lepidurus apus lubbocki            10       \n",
      "Lepidurus apus viridis             1        \n",
      "Lepidurus arcticus                 6        \n",
      "Lepidurus bilobatus                1        \n",
      "Lepidurus couesii                  11       \n",
      "Lepidurus lemmoni                  4        \n",
      "Lepidurus packardi                 1        \n",
      "Lepidurus sp. BOLD:AAI1216         1        \n",
      "Lepidurus sp. BV-2012              3        \n",
      "Lepidurus sp. MTD:TW 2042          1        \n",
      "Lepidurus sp. REA2000              1        \n",
      "Lepidurus sp. TCM-2013             1        \n",
      "Triops australiensis               17       \n",
      "Triops baeticus                    1        \n",
      "Triops cancriformis                92       \n",
      "Triops cancriformis cancriformis   9        \n",
      "Triops granarius                   48       \n",
      "Triops longicaudatus               134      \n",
      "Triops mauritanicus                4        \n",
      "Triops mauritanicus mauritanicus   5        \n",
      "Triops mauritanicus simplex        3        \n",
      "Triops newberryi                   24       \n",
      "Triops simplex                     1        \n",
      "Triops sp. 1 JRdW-2005             1        \n",
      "Triops sp. 2 JRdW-2005             1        \n",
      "Triops sp. A Paroo                 1        \n",
      "Triops sp. B Paroo                 1        \n",
      "Triops sp. BV-2012                 2        \n",
      "Triops sp. MTD:TW 2598             1        \n",
      "Triops sp. MTD:TW 4950             1        \n",
      "Triops sp. MTD:TW 4963             1        \n",
      "Triops sp. TCM-2013                1        \n"
     ]
    }
   ],
   "source": [
    "view_csv_as_table(\"Notostraca_species.csv\",\"\\t\")"
   ]
  },
  {
   "cell_type": "code",
   "execution_count": 146,
   "metadata": {
    "collapsed": true
   },
   "outputs": [],
   "source": [
    "pj.extract_by_locus()"
   ]
  },
  {
   "cell_type": "code",
   "execution_count": 147,
   "metadata": {
    "collapsed": false,
    "scrolled": true
   },
   "outputs": [
    {
     "name": "stdout",
     "output_type": "stream",
     "text": [
      "Distribution Of Sequence Lengths\n",
      "Distribution Of Sequence Statistic \"Gc_Content\"\n"
     ]
    },
    {
     "data": {
      "image/png": "[encoded data removed]",
      "text/plain": [
       "<matplotlib.figure.Figure at 0x7f60cbdfc0d0>"
      ]
     },
     "metadata": {},
     "output_type": "display_data"
    },
    {
     "data": {
      "image/png": "[encoded data removed]",
      "text/plain": [
       "<matplotlib.figure.Figure at 0x7f60ccedf4d0>"
      ]
     },
     "metadata": {},
     "output_type": "display_data"
    }
   ],
   "source": [
    "%matplotlib inline\n",
    "pj.report_seq_stats()"
   ]
  },
  {
   "cell_type": "code",
   "execution_count": 149,
   "metadata": {
    "collapsed": false
   },
   "outputs": [
    {
     "name": "stdout",
     "output_type": "stream",
     "text": [
      "mafft --localpair --maxiterate 1000 946301433430429.68_CDS_proteins_MT-CO1.fasta\n"
     ]
    }
   ],
   "source": [
    "mafft = AlnConf(pj, method_name='mafftDefaults', \n",
    "                loci= ['MT-CO1'],\n",
    "                CDSAlign=True,\n",
    "                codontable=2,\n",
    "                cline_args=dict(localpair=True, maxiterate=1000))"
   ]
  },
  {
   "cell_type": "code",
   "execution_count": 150,
   "metadata": {
    "collapsed": true
   },
   "outputs": [],
   "source": [
    "pj.align([mafft])"
   ]
  },
  {
   "cell_type": "code",
   "execution_count": 151,
   "metadata": {
    "collapsed": false
   },
   "outputs": [
    {
     "name": "stdout",
     "output_type": "stream",
     "text": [
      "{'MT-CO1@mafftDefaults': <<class 'Bio.Align.MultipleSeqAlignment'> instance (395 records of length 1539, IUPACAmbiguousDNA()) at 7f60cc495150>}\n"
     ]
    }
   ],
   "source": [
    "print pj.alignments"
   ]
  },
  {
   "cell_type": "code",
   "execution_count": 152,
   "metadata": {
    "collapsed": false
   },
   "outputs": [
    {
     "name": "stdout",
     "output_type": "stream",
     "text": [
      "trimal -in 836071433430663.83_MT-CO1@mafftDefaults.fasta -gappyout\n"
     ]
    }
   ],
   "source": [
    "mafft_gappyout = TrimalConf(pj,alns=['MT-CO1@mafftDefaults'])"
   ]
  },
  {
   "cell_type": "code",
   "execution_count": 153,
   "metadata": {
    "collapsed": true
   },
   "outputs": [],
   "source": [
    "pj.trim([mafft_gappyout])"
   ]
  },
  {
   "cell_type": "code",
   "execution_count": 154,
   "metadata": {
    "collapsed": false
   },
   "outputs": [
    {
     "name": "stdout",
     "output_type": "stream",
     "text": [
      "raxmlHPC-PTHREADS-SSE3 -f a -m GTRGAMMA -n 808031433430680.55_MT-CO1@mafftDefaults@gappyout0 -p 393 -s 808031433430680.55_MT-CO1@mafftDefaults@gappyout.fasta -T 8 -x 398 -N 100\n"
     ]
    }
   ],
   "source": [
    "raxml_mafft = RaxmlConf(pj, preset=\"fa\", model='GAMMA', matrix='GTR', threads=8, alns=['MT-CO1@mafftDefaults@gappyout'])"
   ]
  },
  {
   "cell_type": "code",
   "execution_count": 155,
   "metadata": {
    "collapsed": true
   },
   "outputs": [],
   "source": [
    "pj.tree([raxml_mafft])"
   ]
  },
  {
   "cell_type": "code",
   "execution_count": 156,
   "metadata": {
    "collapsed": true
   },
   "outputs": [],
   "source": [
    "pj.add_qualifier_from_source('organism')"
   ]
  },
  {
   "cell_type": "code",
   "execution_count": 157,
   "metadata": {
    "collapsed": true
   },
   "outputs": [],
   "source": [
    "pj.clear_tree_annotations()\n",
    "\n",
    "supports = {'black':[100,99],\n",
    "            'dimgray':[99,75],\n",
    "            'silver':[75,50]}\n",
    "\n",
    "pj.annotate('.', 'mid','mid',['organism','feature_id'],\n",
    "            node_support_dict=supports, scale=500, \n",
    "            #multifurc=50,\n",
    "            html=\"Notostraca_COI.html\")"
   ]
  },
  {
   "cell_type": "markdown",
   "metadata": {},
   "source": [
    "##produce test data set for course##"
   ]
  },
  {
   "cell_type": "code",
   "execution_count": 158,
   "metadata": {
    "collapsed": false,
    "scrolled": true
   },
   "outputs": [],
   "source": [
    "#write out a fasta containing 100 random COI sequences; \n",
    "#this is a complicated way of doing it but to date the 'write_by_locus' method is the only way I know \n",
    "#of to extract just a gene from the records and write it to a file.\n",
    "#So I first write a file that contains only the COI sequences (as opposed to the full seqeunce in case of\n",
    "#full mitochondrial genomes). THen I read this fasta file back in and print only those that are contained\n",
    "#in the random list of locus ids.\n",
    "\n",
    "#write out only COI sequences to file (I have used 'extract by locus' above so that the object only contains\n",
    "#COI and not the full sequences any more)\n",
    "pj.write_by_locus(format = 'fasta')\n",
    "\n",
    "#create a list of 100 random locus ids\n",
    "recs = []\n",
    "random_recs_ids = []\n",
    "\n",
    "for r in pj.records:\n",
    "    recs.append(r.id)\n",
    "\n",
    "import random\n",
    "rand_recs_ids = random.sample(recs, 100)\n",
    "\n",
    "#parse the fasta file that contains only the COI sequences\n",
    "handle = open(\"MT-CO1.fasta\", \"r\")\n",
    "rs = list(SeqIO.parse(handle, \"fasta\"))\n",
    "handle.close()\n",
    "\n",
    "#select the set of random sequences and write it to file with the header sequence id and taxon id (the latter I\n",
    "#need to fetch from the original record)\n",
    "rand_OUT = open(\"Notostraca_random_queries.fasta\",\"w\")\n",
    "for r in rs:\n",
    "    r.id = r.id.rpartition(\"_\")[0]\n",
    "    if r.id in rand_recs_ids:\n",
    "#        print \"search for: %s\" %r.id\n",
    "        for full_rec in pj.records: #loop throuhg the original records and find the taxon id to the record id in question\n",
    "#            print full_rec.id\n",
    "            if full_rec.id == r.id:\n",
    "                rand_OUT.write(\">%s|%s\\n%s\\n\" %(r.id,full_rec.features[0].qualifiers['db_xref'][0].split(\":\")[-1],r.seq))\n",
    "                break\n",
    "rand_OUT.close()\n",
    "\n",
    "#exclude the random loci from all further analyses\n",
    "pj.exclude(start_from_max=True, **{'MT-CO1': rand_recs_ids})"
   ]
  },
  {
   "cell_type": "code",
   "execution_count": 159,
   "metadata": {
    "collapsed": false
   },
   "outputs": [
    {
     "name": "stdout",
     "output_type": "stream",
     "text": [
      "mafft --localpair --maxiterate 1000 818031433431770.26_CDS_proteins_MT-CO1.fasta\n"
     ]
    }
   ],
   "source": [
    "#redo the alignment for the reduced set of sequences\n",
    "mafft_reduced = AlnConf(pj, method_name='mafft_reduced_Defaults', \n",
    "                loci= ['MT-CO1'],\n",
    "                CDSAlign=True,\n",
    "                codontable=2,\n",
    "                cline_args=dict(localpair=True, maxiterate=1000))"
   ]
  },
  {
   "cell_type": "code",
   "execution_count": 160,
   "metadata": {
    "collapsed": true
   },
   "outputs": [],
   "source": [
    "pj.align([mafft_reduced])"
   ]
  },
  {
   "cell_type": "code",
   "execution_count": 161,
   "metadata": {
    "collapsed": false
   },
   "outputs": [
    {
     "name": "stdout",
     "output_type": "stream",
     "text": [
      "{'MT-CO1@mafftDefaults': <<class 'Bio.Align.MultipleSeqAlignment'> instance (395 records of length 1539, IUPACAmbiguousDNA()) at 7f60cc495150>, 'MT-CO1@mafft_reduced_Defaults': <<class 'Bio.Align.MultipleSeqAlignment'> instance (295 records of length 1539, IUPACAmbiguousDNA()) at 7f60ccc246d0>}\n"
     ]
    }
   ],
   "source": [
    "print pj.alignments"
   ]
  },
  {
   "cell_type": "code",
   "execution_count": 162,
   "metadata": {
    "collapsed": true
   },
   "outputs": [],
   "source": [
    "from StringIO import StringIO\n",
    "\n",
    "aln = AlignIO.read(StringIO(pj.alignments['MT-CO1@mafft_reduced_Defaults'].format('fasta')), 'fasta')\n",
    "\n",
    "for r in aln:\n",
    "    r.id = r.id.rpartition(\"_\")[0]\n",
    "#    print r.id\n",
    "\n",
    "AlignIO.write(aln, \"MT-CO1@mafft_reduced_Defaults.phy\", \"phylip-relaxed\")\n",
    "\n",
    "#write alignment in fasta. convert the phylip alignemtn that has just been written to fasta for consistent sample names.\n",
    "fasta_handle = open(\"MT-CO1@mafft_reduced_Defaults.fasta\",\"w\")\n",
    "in_phylip = open(\"MT-CO1@mafft_reduced_Defaults.phy\",\"r\")\n",
    "alignments = AlignIO.parse(in_phylip, \"phylip-relaxed\")\n",
    "\n",
    "AlignIO.write(alignments, fasta_handle, \"fasta\")\n",
    "fasta_handle.close()\n",
    "in_phylip.close()"
   ]
  },
  {
   "cell_type": "markdown",
   "metadata": {},
   "source": [
    "\n",
    "__BUILD MAXIMUM LIKELIHOOD REFERENCE TREE to be used in pplacer__\n",
    "\n",
    "We will do this using RAxML v. 7.2.6."
   ]
  },
  {
   "cell_type": "code",
   "execution_count": 163,
   "metadata": {
    "collapsed": false,
    "scrolled": true
   },
   "outputs": [
    {
     "name": "stdout",
     "output_type": "stream",
     "text": [
      "\n",
      "\n",
      "IMPORTANT WARNING: Sequences KJ136527.1 and KF979171.1 are exactly identical\n",
      "\n",
      "\n",
      "IMPORTANT WARNING: Sequences KJ136525.1 and KF979169.1 are exactly identical\n",
      "\n",
      "\n",
      "IMPORTANT WARNING: Sequences KJ136523.1 and KF979167.1 are exactly identical\n",
      "\n",
      "\n",
      "IMPORTANT WARNING: Sequences KJ136520.1 and KF979156.1 are exactly identical\n",
      "\n",
      "\n",
      "IMPORTANT WARNING: Sequences KJ136519.1 and HF911376.1 are exactly identical\n",
      "\n",
      "\n",
      "IMPORTANT WARNING: Sequences KF979166.1 and KF979165.1 are exactly identical\n",
      "\n",
      "\n",
      "IMPORTANT WARNING: Sequences KF979166.1 and KF979164.1 are exactly identical\n",
      "\n",
      "\n",
      "IMPORTANT WARNING: Sequences KF979166.1 and KF979163.1 are exactly identical\n",
      "\n",
      "\n",
      "IMPORTANT WARNING: Sequences KF979166.1 and KF979161.1 are exactly identical\n",
      "\n",
      "\n",
      "IMPORTANT WARNING: Sequences KF979166.1 and KF979160.1 are exactly identical\n",
      "\n",
      "\n",
      "IMPORTANT WARNING: Sequences KF979166.1 and KF979158.1 are exactly identical\n",
      "\n",
      "\n",
      "IMPORTANT WARNING: Sequences HF911401.1 and HF911400.1 are exactly identical\n",
      "\n",
      "\n",
      "IMPORTANT WARNING: Sequences HF911382.1 and HF911381.1 are exactly identical\n",
      "\n",
      "\n",
      "IMPORTANT WARNING: Sequences HF911382.1 and HF911380.1 are exactly identical\n",
      "\n",
      "\n",
      "IMPORTANT WARNING: Sequences HF911378.1 and HF911377.1 are exactly identical\n",
      "\n",
      "\n",
      "IMPORTANT WARNING: Sequences JQ609254.1 and JQ609241.1 are exactly identical\n",
      "\n",
      "\n",
      "IMPORTANT WARNING: Sequences JQ609254.1 and JQ609240.1 are exactly identical\n",
      "\n",
      "\n",
      "IMPORTANT WARNING: Sequences JQ609254.1 and JQ609214.1 are exactly identical\n",
      "\n",
      "\n",
      "IMPORTANT WARNING: Sequences JQ609254.1 and JQ609212.1 are exactly identical\n",
      "\n",
      "\n",
      "IMPORTANT WARNING: Sequences JQ609254.1 and JQ609211.1 are exactly identical\n",
      "\n",
      "\n",
      "IMPORTANT WARNING: Sequences JQ609254.1 and JQ609209.1 are exactly identical\n",
      "\n",
      "\n",
      "IMPORTANT WARNING: Sequences JQ609254.1 and JQ609206.1 are exactly identical\n",
      "\n",
      "\n",
      "IMPORTANT WARNING: Sequences JQ609252.1 and JQ609250.1 are exactly identical\n",
      "\n",
      "\n",
      "IMPORTANT WARNING: Sequences JQ609252.1 and JQ609249.1 are exactly identical\n",
      "\n",
      "\n",
      "IMPORTANT WARNING: Sequences JQ609252.1 and JQ609248.1 are exactly identical\n",
      "\n",
      "\n",
      "IMPORTANT WARNING: Sequences JQ609252.1 and JQ609247.1 are exactly identical\n",
      "\n",
      "\n",
      "IMPORTANT WARNING: Sequences JQ609252.1 and JQ609246.1 are exactly identical\n",
      "\n",
      "\n",
      "IMPORTANT WARNING: Sequences JQ609252.1 and JQ609245.1 are exactly identical\n",
      "\n",
      "\n",
      "IMPORTANT WARNING: Sequences JQ609244.1 and JQ609242.1 are exactly identical\n",
      "\n",
      "\n",
      "IMPORTANT WARNING: Sequences JQ609244.1 and JQ609236.1 are exactly identical\n",
      "\n",
      "\n",
      "IMPORTANT WARNING: Sequences JQ609244.1 and JQ609223.1 are exactly identical\n",
      "\n",
      "\n",
      "IMPORTANT WARNING: Sequences JQ609244.1 and JQ609222.1 are exactly identical\n",
      "\n",
      "\n",
      "IMPORTANT WARNING: Sequences JQ609244.1 and JQ609221.1 are exactly identical\n",
      "\n",
      "\n",
      "IMPORTANT WARNING: Sequences JQ609244.1 and JQ609220.1 are exactly identical\n",
      "\n",
      "\n",
      "IMPORTANT WARNING: Sequences JQ609244.1 and JQ609219.1 are exactly identical\n",
      "\n",
      "\n",
      "IMPORTANT WARNING: Sequences JQ609244.1 and JQ609218.1 are exactly identical\n",
      "\n",
      "\n",
      "IMPORTANT WARNING: Sequences JQ609244.1 and JQ609217.1 are exactly identical\n",
      "\n",
      "\n",
      "IMPORTANT WARNING: Sequences JQ609244.1 and JQ609216.1 are exactly identical\n",
      "\n",
      "\n",
      "IMPORTANT WARNING: Sequences JQ609244.1 and JQ609213.1 are exactly identical\n",
      "\n",
      "\n",
      "IMPORTANT WARNING: Sequences JQ609244.1 and JQ609208.1 are exactly identical\n",
      "\n",
      "\n",
      "IMPORTANT WARNING: Sequences JQ609244.1 and JQ609204.1 are exactly identical\n",
      "\n",
      "\n",
      "IMPORTANT WARNING: Sequences JQ609244.1 and JQ609203.1 are exactly identical\n",
      "\n",
      "\n",
      "IMPORTANT WARNING: Sequences JQ609244.1 and JQ609202.1 are exactly identical\n",
      "\n",
      "\n",
      "IMPORTANT WARNING: Sequences JQ609244.1 and JQ609201.1 are exactly identical\n",
      "\n",
      "\n",
      "IMPORTANT WARNING: Sequences JQ609244.1 and JQ609200.1 are exactly identical\n",
      "\n",
      "\n",
      "IMPORTANT WARNING: Sequences JQ609244.1 and JQ609198.1 are exactly identical\n",
      "\n",
      "\n",
      "IMPORTANT WARNING: Sequences JQ609244.1 and JQ609197.1 are exactly identical\n",
      "\n",
      "\n",
      "IMPORTANT WARNING: Sequences JQ609244.1 and JQ609195.1 are exactly identical\n",
      "\n",
      "\n",
      "IMPORTANT WARNING: Sequences JQ609244.1 and JQ609191.1 are exactly identical\n",
      "\n",
      "\n",
      "IMPORTANT WARNING: Sequences JQ609244.1 and JQ609190.1 are exactly identical\n",
      "\n",
      "\n",
      "IMPORTANT WARNING: Sequences JQ609244.1 and JQ609187.1 are exactly identical\n",
      "\n",
      "\n",
      "IMPORTANT WARNING: Sequences JQ609244.1 and JQ609186.1 are exactly identical\n",
      "\n",
      "\n",
      "IMPORTANT WARNING: Sequences JQ609244.1 and JQ609185.1 are exactly identical\n",
      "\n",
      "\n",
      "IMPORTANT WARNING: Sequences JQ609244.1 and JQ609184.1 are exactly identical\n",
      "\n",
      "\n",
      "IMPORTANT WARNING: Sequences JQ609244.1 and JQ609183.1 are exactly identical\n",
      "\n",
      "\n",
      "IMPORTANT WARNING: Sequences JQ609244.1 and JQ609182.1 are exactly identical\n",
      "\n",
      "\n",
      "IMPORTANT WARNING: Sequences JQ609244.1 and JQ609180.1 are exactly identical\n",
      "\n",
      "\n",
      "IMPORTANT WARNING: Sequences JQ609244.1 and JQ609179.1 are exactly identical\n",
      "\n",
      "\n",
      "IMPORTANT WARNING: Sequences JQ609244.1 and JQ609178.1 are exactly identical\n",
      "\n",
      "\n",
      "IMPORTANT WARNING: Sequences JQ609244.1 and JQ609177.1 are exactly identical\n",
      "\n",
      "\n",
      "IMPORTANT WARNING: Sequences JQ609244.1 and JQ609176.1 are exactly identical\n",
      "\n",
      "\n",
      "IMPORTANT WARNING: Sequences JQ609238.1 and JQ609189.1 are exactly identical\n",
      "\n",
      "\n",
      "IMPORTANT WARNING: Sequences JQ609235.1 and JQ609234.1 are exactly identical\n",
      "\n",
      "\n",
      "IMPORTANT WARNING: Sequences JQ609235.1 and JQ609228.1 are exactly identical\n",
      "\n",
      "\n",
      "IMPORTANT WARNING: Sequences JQ609235.1 and JQ609226.1 are exactly identical\n",
      "\n",
      "\n",
      "IMPORTANT WARNING: Sequences JQ609235.1 and JQ609225.1 are exactly identical\n",
      "\n",
      "\n",
      "IMPORTANT WARNING: Sequences JN175241.1 and EF675861.1 are exactly identical\n",
      "\n",
      "\n",
      "IMPORTANT WARNING: Sequences JN175241.1 and EF675860.1 are exactly identical\n",
      "\n",
      "\n",
      "IMPORTANT WARNING: Sequences JN175241.1 and EF675859.1 are exactly identical\n",
      "\n",
      "\n",
      "IMPORTANT WARNING: Sequences JN175241.1 and EF675858.1 are exactly identical\n",
      "\n",
      "\n",
      "IMPORTANT WARNING: Sequences JN175241.1 and EF675857.1 are exactly identical\n",
      "\n",
      "\n",
      "IMPORTANT WARNING: Sequences JN175241.1 and EF675855.1 are exactly identical\n",
      "\n",
      "\n",
      "IMPORTANT WARNING: Sequences JN175241.1 and EF675854.1 are exactly identical\n",
      "\n",
      "\n",
      "IMPORTANT WARNING: Sequences JN175241.1 and EF675853.1 are exactly identical\n",
      "\n",
      "\n",
      "IMPORTANT WARNING: Sequences JN175241.1 and EF675852.1 are exactly identical\n",
      "\n",
      "\n",
      "IMPORTANT WARNING: Sequences JN175241.1 and EF675850.1 are exactly identical\n",
      "\n",
      "\n",
      "IMPORTANT WARNING: Sequences JN175241.1 and EF675849.1 are exactly identical\n",
      "\n",
      "\n",
      "IMPORTANT WARNING: Sequences JN175241.1 and EF675848.1 are exactly identical\n",
      "\n",
      "\n",
      "IMPORTANT WARNING: Sequences JN175241.1 and EF675847.1 are exactly identical\n",
      "\n",
      "\n",
      "IMPORTANT WARNING: Sequences JN175241.1 and EF675845.1 are exactly identical\n",
      "\n",
      "\n",
      "IMPORTANT WARNING: Sequences JN175241.1 and EF675843.1 are exactly identical\n",
      "\n",
      "\n",
      "IMPORTANT WARNING: Sequences JN175241.1 and EF675842.1 are exactly identical\n",
      "\n",
      "\n",
      "IMPORTANT WARNING: Sequences JN175241.1 and EF675841.1 are exactly identical\n",
      "\n",
      "\n",
      "IMPORTANT WARNING: Sequences JN175241.1 and EF675840.1 are exactly identical\n",
      "\n",
      "\n",
      "IMPORTANT WARNING: Sequences JN175241.1 and EF675839.1 are exactly identical\n",
      "\n",
      "\n",
      "IMPORTANT WARNING: Sequences JN175241.1 and EF675836.1 are exactly identical\n",
      "\n",
      "\n",
      "IMPORTANT WARNING: Sequences JN175241.1 and EF675835.1 are exactly identical\n",
      "\n",
      "\n",
      "IMPORTANT WARNING: Sequences JN175241.1 and EF675833.1 are exactly identical\n",
      "\n",
      "\n",
      "IMPORTANT WARNING: Sequences JN175241.1 and EF675830.1 are exactly identical\n",
      "\n",
      "\n",
      "IMPORTANT WARNING: Sequences HQ908567.1 and HQ908566.1 are exactly identical\n",
      "\n",
      "\n",
      "IMPORTANT WARNING: Sequences HQ908567.1 and HQ908562.1 are exactly identical\n",
      "\n",
      "\n",
      "IMPORTANT WARNING: Sequences HQ908563.1 and HQ908561.1 are exactly identical\n",
      "\n",
      "\n",
      "IMPORTANT WARNING: Sequences HQ908563.1 and HQ908559.1 are exactly identical\n",
      "\n",
      "\n",
      "IMPORTANT WARNING: Sequences HQ908563.1 and HQ908557.1 are exactly identical\n",
      "\n",
      "\n",
      "IMPORTANT WARNING: Sequences HQ908563.1 and HQ908556.1 are exactly identical\n",
      "\n",
      "\n",
      "IMPORTANT WARNING: Sequences HQ908563.1 and HQ908553.1 are exactly identical\n",
      "\n",
      "\n",
      "IMPORTANT WARNING: Sequences HQ908563.1 and HQ908552.1 are exactly identical\n",
      "\n",
      "\n",
      "IMPORTANT WARNING: Sequences HQ908563.1 and HQ908551.1 are exactly identical\n",
      "\n",
      "\n",
      "IMPORTANT WARNING: Sequences HQ908563.1 and HQ908550.1 are exactly identical\n",
      "\n",
      "\n",
      "IMPORTANT WARNING: Sequences HQ908563.1 and HQ908549.1 are exactly identical\n",
      "\n",
      "\n",
      "IMPORTANT WARNING: Sequences HQ908563.1 and HQ908545.1 are exactly identical\n",
      "\n",
      "\n",
      "IMPORTANT WARNING: Sequences HQ908563.1 and HQ908544.1 are exactly identical\n",
      "\n",
      "\n",
      "IMPORTANT WARNING: Sequences HQ908555.1 and HQ908554.1 are exactly identical\n",
      "\n",
      "\n",
      "IMPORTANT WARNING: Sequences HQ908547.1 and HQ908546.1 are exactly identical\n",
      "\n",
      "\n",
      "IMPORTANT WARNING: Sequences HQ908533.1 and HQ908527.1 are exactly identical\n",
      "\n",
      "\n",
      "IMPORTANT WARNING: Sequences HQ908524.1 and HQ908521.1 are exactly identical\n",
      "\n",
      "\n",
      "IMPORTANT WARNING: Sequences HQ908524.1 and HQ908519.1 are exactly identical\n",
      "\n",
      "\n",
      "IMPORTANT WARNING: Sequences HQ908513.1 and HQ908503.1 are exactly identical\n",
      "\n",
      "\n",
      "IMPORTANT WARNING: Sequences HQ908509.1 and HQ908508.1 are exactly identical\n",
      "\n",
      "\n",
      "IMPORTANT WARNING: Sequences HQ908504.1 and HQ908501.1 are exactly identical\n",
      "\n",
      "\n",
      "IMPORTANT WARNING: Sequences HQ908504.1 and HQ908500.1 are exactly identical\n",
      "\n",
      "\n",
      "IMPORTANT WARNING: Sequences HQ908504.1 and HQ908499.1 are exactly identical\n",
      "\n",
      "\n",
      "IMPORTANT WARNING: Sequences HQ908504.1 and HQ908498.1 are exactly identical\n",
      "\n",
      "\n",
      "IMPORTANT WARNING: Sequences EF675908.1 and EF675907.1 are exactly identical\n",
      "\n",
      "\n",
      "IMPORTANT WARNING: Sequences EF675908.1 and EF675906.1 are exactly identical\n",
      "\n",
      "\n",
      "IMPORTANT WARNING: Sequences EF675903.1 and EF675902.1 are exactly identical\n",
      "\n",
      "\n",
      "IMPORTANT WARNING: Sequences EF675899.1 and EF675898.1 are exactly identical\n",
      "\n",
      "\n",
      "IMPORTANT WARNING: Sequences EF675897.1 and EF675895.1 are exactly identical\n",
      "\n",
      "\n",
      "IMPORTANT WARNING: Sequences EF675897.1 and EF675894.1 are exactly identical\n",
      "\n",
      "\n",
      "IMPORTANT WARNING: Sequences EF675897.1 and EF675893.1 are exactly identical\n",
      "\n",
      "\n",
      "IMPORTANT WARNING: Sequences EF675897.1 and EF675892.1 are exactly identical\n",
      "\n",
      "\n",
      "IMPORTANT WARNING: Sequences EF675897.1 and EF675891.1 are exactly identical\n",
      "\n",
      "\n",
      "IMPORTANT WARNING: Sequences EF675897.1 and EF675890.1 are exactly identical\n",
      "\n",
      "\n",
      "IMPORTANT WARNING: Sequences EF675897.1 and EF675888.1 are exactly identical\n",
      "\n",
      "\n",
      "IMPORTANT WARNING: Sequences EF675897.1 and EF675887.1 are exactly identical\n",
      "\n",
      "\n",
      "IMPORTANT WARNING: Sequences EF675897.1 and EF675886.1 are exactly identical\n",
      "\n",
      "\n",
      "IMPORTANT WARNING: Sequences EF675897.1 and EF675885.1 are exactly identical\n",
      "\n",
      "\n",
      "IMPORTANT WARNING: Sequences EF675897.1 and EF675884.1 are exactly identical\n",
      "\n",
      "\n",
      "IMPORTANT WARNING: Sequences EF675877.1 and EF675876.1 are exactly identical\n",
      "\n",
      "\n",
      "IMPORTANT WARNING: Sequences EF675877.1 and EF675874.1 are exactly identical\n",
      "\n",
      "\n",
      "IMPORTANT WARNING: Sequences EF675877.1 and EF675873.1 are exactly identical\n",
      "\n",
      "\n",
      "IMPORTANT WARNING: Sequences EF675877.1 and EF675871.1 are exactly identical\n",
      "\n",
      "\n",
      "IMPORTANT WARNING: Sequences EF675877.1 and EF675870.1 are exactly identical\n",
      "\n",
      "\n",
      "IMPORTANT WARNING: Sequences EF675877.1 and EF675869.1 are exactly identical\n",
      "\n",
      "\n",
      "IMPORTANT WARNING: Sequences EF675877.1 and EF675868.1 are exactly identical\n",
      "\n",
      "\n",
      "IMPORTANT WARNING: Sequences EF675877.1 and EF675867.1 are exactly identical\n",
      "\n",
      "\n",
      "IMPORTANT WARNING: Sequences EF675877.1 and EF675866.1 are exactly identical\n",
      "\n",
      "\n",
      "IMPORTANT WARNING: Sequences EF675877.1 and EF675864.1 are exactly identical\n",
      "\n",
      "\n",
      "IMPORTANT WARNING: Sequences EF675877.1 and EF675862.1 are exactly identical\n",
      "\n",
      "\n",
      "IMPORTANT WARNING: Sequences EF675828.1 and EF675827.1 are exactly identical\n",
      "\n",
      "\n",
      "IMPORTANT WARNING: Sequences EF675828.1 and EF675826.1 are exactly identical\n",
      "\n",
      "IMPORTANT WARNING\n",
      "Found 141 sequences that are exactly identical to other sequences in the alignment.\n",
      "Normally they should be excluded from the analysis.\n",
      "\n",
      "Just in case you might need it, an alignment file with \n",
      "sequence duplicates removed is printed to file MT-CO1@mafft_reduced_Defaults.phy.reduced\n",
      "\n",
      "This is the RAxML Master Pthread\n",
      "\n",
      "This is RAxML Worker Pthread Number: 1\n",
      "\n",
      "This is RAxML Worker Pthread Number: 2\n",
      "\n",
      "This is RAxML Worker Pthread Number: 3\n",
      "\n",
      "This is RAxML Worker Pthread Number: 4\n",
      "\n",
      "This is RAxML Worker Pthread Number: 5\n",
      "\n",
      "This is RAxML Worker Pthread Number: 6\n",
      "\n",
      "This is RAxML Worker Pthread Number: 7\n",
      "\n",
      "\n",
      "This is RAxML version 7.2.6 released by Alexandros Stamatakis in February 2010.\n",
      "\n",
      "With greatly appreciated code contributions by:\n",
      "Andre Aberer (TUM)\n",
      "Simon Berger (TUM)\n",
      "John Cazes (TACC)\n",
      "Michael Ott (TUM)\n",
      "Nick Pattengale (UNM)\n",
      "Wayne Pfeiffer (SDSC)\n",
      "\n",
      "\n",
      "Alignment has 396 distinct alignment patterns\n",
      "\n",
      "Proportion of gaps and completely undetermined characters in this alignment: 59.03%\n",
      "\n",
      "RAxML rapid hill-climbing mode\n",
      "\n",
      "Using 1 distinct models/data partitions with joint branch length optimization\n",
      "\n",
      "\n",
      "Executing 1 inferences on the original alignment using 1 distinct randomized MP trees\n",
      "\n",
      "All free model parameters will be estimated by RAxML\n",
      "GAMMA model of rate heteorgeneity, ML estimate of alpha-parameter\n",
      "\n",
      "GAMMA Model parameters will be estimated up to an accuracy of 0.1000000000 Log Likelihood units\n",
      "\n",
      "Partition: 0\n",
      "Alignment Patterns: 396\n",
      "Name: No Name Provided\n",
      "DataType: DNA\n",
      "Substitution Matrix: GTR\n",
      "\n",
      "\n",
      "\n",
      "\n",
      "RAxML was called as follows:\n",
      "\n",
      "raxmlHPC-PTHREADS -T 8 -m GTRGAMMA -s MT-CO1@mafft_reduced_Defaults.phy -n MT-CO1@mafft_reduced_Defaults \n",
      "\n",
      "\n",
      "Inference[0]: Time 31.573526 GAMMA-based likelihood -11129.575105, best rearrangement setting 15\n",
      "\n",
      "\n",
      "Conducting final model optimizations on all 1 trees under GAMMA-based models ....\n",
      "\n",
      "Inference[0] final GAMMA-based Likelihood: -11124.427352 tree written to file /home/working/Notostraca/RAxML_result.MT-CO1@mafft_reduced_Defaults\n",
      "\n",
      "\n",
      "Starting final GAMMA-based thorough Optimization on tree 0 likelihood -11124.427352 .... \n",
      "\n",
      "Final GAMMA-based Score of best tree -11124.427342\n",
      "\n",
      "Program execution info written to /home/working/Notostraca/RAxML_info.MT-CO1@mafft_reduced_Defaults\n",
      "Best-scoring ML tree written to: /home/working/Notostraca/RAxML_bestTree.MT-CO1@mafft_reduced_Defaults\n",
      "\n",
      "Overall execution time: 46.019104 secs or 0.012783 hours or 0.000533 days\n",
      "\n"
     ]
    }
   ],
   "source": [
    "!raxmlHPC-PTHREADS -T 8 -m GTRGAMMA -s MT-CO1@mafft_reduced_Defaults.phy -n MT-CO1@mafft_reduced_Defaults"
   ]
  }
 ],
 "metadata": {
  "kernelspec": {
   "display_name": "Python 2",
   "language": "python",
   "name": "python2"
  },
  "language_info": {
   "codemirror_mode": {
    "name": "ipython",
    "version": 2
   },
   "file_extension": ".py",
   "mimetype": "text/x-python",
   "name": "python",
   "nbconvert_exporter": "python",
   "pygments_lexer": "ipython2",
   "version": "2.7.6"
  }
 },
 "nbformat": 4,
 "nbformat_minor": 0
}
