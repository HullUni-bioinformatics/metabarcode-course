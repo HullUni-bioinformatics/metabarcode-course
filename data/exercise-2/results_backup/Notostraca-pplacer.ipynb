{
 "cells": [
  {
   "cell_type": "markdown",
   "metadata": {},
   "source": [
    "\n",
    "__BUILD A HMM FOR THE REFERENCE ALIGNMENT__\n",
    "\n",
    "We will do this with the program `hmmbuild` from the [hmmer v3](http://hmmer.janelia.org/) program suite."
   ]
  },
  {
   "cell_type": "code",
   "execution_count": null,
   "metadata": {
    "collapsed": true
   },
   "outputs": [],
   "source": [
    "!hmmbuild -h #for help"
   ]
  },
  {
   "cell_type": "code",
   "execution_count": null,
   "metadata": {
    "collapsed": true
   },
   "outputs": [],
   "source": [
    "!hmmbuild Notostraca_ref.hmm data/MT-CO1@mafft_reduced_Defaults.fasta"
   ]
  },
  {
   "cell_type": "markdown",
   "metadata": {},
   "source": [
    "__ALIGN QUERIES TO REFERENCE ALIGNMENT__\n",
    "\n",
    "We will do this with the program `hmmalign` from the hmmerv3 program suite."
   ]
  },
  {
   "cell_type": "code",
   "execution_count": null,
   "metadata": {
    "collapsed": true
   },
   "outputs": [],
   "source": [
    "!hmmalign -h #for help"
   ]
  },
  {
   "cell_type": "code",
   "execution_count": null,
   "metadata": {
    "collapsed": true
   },
   "outputs": [],
   "source": [
    "!hmmalign -o Notostraca_ref_plus_random_query.sto --mapali data/MT-CO1@mafft_reduced_Defaults.fasta Notostraca_ref.hmm data/Notostraca_random_queries.fasta"
   ]
  },
  {
   "cell_type": "markdown",
   "metadata": {},
   "source": [
    "__Create reference package required by pplacer__\n",
    "\n",
    "First we will need to compile some information about the taxonomy of the reference sequences.\n",
    "\n",
    "We start by producing a taxonomy table for the set of taxa that is used as reference. The file `taxids.txt` is a simple text file that contains the taxonomic ids [taxids](http://www.ncbi.nlm.nih.gov/taxonomy) for all taxa. "
   ]
  },
  {
   "cell_type": "code",
   "execution_count": null,
   "metadata": {
    "collapsed": true
   },
   "outputs": [],
   "source": [
    "!cat data/taxids.txt"
   ]
  },
  {
   "cell_type": "markdown",
   "metadata": {},
   "source": [
    "We will use a tool from the [taxtastic](http://fhcrc.github.io/taxtastic/) package to fetch the taxonomic information for these taxa from the global [NCBI taxonomy](http://www.ncbi.nlm.nih.gov/taxonomy), which is present as the so-called 'taxonomy dump' in our container (`/usr/bin/taxonomy.db`). Information on how to format the taxonomy dump for use with taxtastic can be found [here](http://fhcrc.github.io/taxtastic/commands.html#new-database).\n"
   ]
  },
  {
   "cell_type": "markdown",
   "metadata": {},
   "source": [
    "[Taxtastic](http://fhcrc.github.io/taxtastic/) is suite of tools."
   ]
  },
  {
   "cell_type": "code",
   "execution_count": null,
   "metadata": {
    "collapsed": true
   },
   "outputs": [],
   "source": [
    "!taxit -h #for help"
   ]
  },
  {
   "cell_type": "markdown",
   "metadata": {},
   "source": [
    "To explore individual functions (such as `taxtable`) further do, e.g.:"
   ]
  },
  {
   "cell_type": "code",
   "execution_count": null,
   "metadata": {
    "collapsed": true
   },
   "outputs": [],
   "source": [
    "!taxit taxtable -h"
   ]
  },
  {
   "cell_type": "markdown",
   "metadata": {},
   "source": [
    "Now, let's produce the relevant taxtable."
   ]
  },
  {
   "cell_type": "code",
   "execution_count": null,
   "metadata": {
    "collapsed": true
   },
   "outputs": [],
   "source": [
    "!taxit taxtable -d /usr/bin/taxonomy.db -t data/taxids.txt -o taxa.csv"
   ]
  },
  {
   "cell_type": "markdown",
   "metadata": {},
   "source": [
    "The resulting `taxa.csv` file contains just the taxonomic information relevant for the reference sequences to be used for the phylogenetic placement. \n",
    "\n",
    "Have a look into the file.\n",
    "\n"
   ]
  },
  {
   "cell_type": "code",
   "execution_count": null,
   "metadata": {
    "collapsed": true
   },
   "outputs": [],
   "source": [
    "!head taxa.csv"
   ]
  },
  {
   "cell_type": "markdown",
   "metadata": {},
   "source": [
    "We will also need to provide information that links the taxonomic ids to the actual sequence ids. This file is called the 'seqinfo' file by taxtasic. We provide this as `seq_info.csv`. Take a second to think about how you would go about to extract this information from a genbank file that contains the complete information for the reference sequences (`Notostraca_COI_without_random.gb`).\n",
    "\n",
    "Have a look:"
   ]
  },
  {
   "cell_type": "code",
   "execution_count": null,
   "metadata": {
    "collapsed": true
   },
   "outputs": [],
   "source": [
    "!head seq_info.csv"
   ]
  },
  {
   "cell_type": "code",
   "execution_count": null,
   "metadata": {
    "collapsed": true
   },
   "outputs": [],
   "source": [
    "!head Notostraca_COI_without_random.gb"
   ]
  },
  {
   "cell_type": "markdown",
   "metadata": {},
   "source": [
    "The reference package also needs to contain a reference tree, the log from the tree inference, the underlying alignment in fasta format as well as the HMM profile that you have produced above to align the query sequences to. \n",
    "\n",
    "Compile the reference package as below:"
   ]
  },
  {
   "cell_type": "code",
   "execution_count": null,
   "metadata": {
    "collapsed": true
   },
   "outputs": [],
   "source": [
    "!taxit create -l COI -P Notostraca_COI.refpkg --aln-fasta MT-CO1@mafft_reduced_Defaults.fasta --tree-stats RAxML_info.MT-CO1@mafft_reduced_Defaults --tree-file RAxML_bestTree.MT-CO1@mafft_reduced_Defaults --profile Notostraca_ref.hmm --seq-info seq_info.csv --taxonomy taxa.csv"
   ]
  },
  {
   "cell_type": "markdown",
   "metadata": {},
   "source": [
    "Some explanation for the above command:\n",
    "    \n",
    "```bash\n",
    "!taxit create \\ #call the relevant function\n",
    "-l COI \\ #id of the marker used (arbitrary)\n",
    "-P Notostraca_COI.refpkg \\ #name to be given to the reference package (arbitrary)\n",
    "--aln-fasta MT-CO1@mafft_reduced_Defaults.fasta \\ #the alignment underlying the tree\n",
    "--tree-stats RAxML_info.MT-CO1@mafft_reduced_Defaults \\ #log file from tree inference\n",
    "--tree-file RAxML_bestTree.MT-CO1@mafft_reduced_Defaults \\ #the tree in newick format\n",
    "--profile Notostraca_ref.hmm \\ #HMM profile build for your reference alignment\n",
    "--seq-info seq_info.csv \\ #seqinfo mapping taxonomy to sequence ids\n",
    "--taxonomy taxa.csv \\ #the relevant subset of the NCBI taxonomy\n",
    "```"
   ]
  },
  {
   "cell_type": "markdown",
   "metadata": {},
   "source": [
    "__PHYLOGENETIC PLACEMENT USING PPLACER__\n",
    "\n",
    "Some more info on pplacer is [here](http://matsen.fhcrc.org/pplacer/). The approach provides a lot of options, some of which are a bit cryptic to be honest. \n",
    "\n",
    "See for yourself:\n",
    "\n"
   ]
  },
  {
   "cell_type": "code",
   "execution_count": null,
   "metadata": {
    "collapsed": true
   },
   "outputs": [],
   "source": [
    "!pplacer -h "
   ]
  },
  {
   "cell_type": "markdown",
   "metadata": {},
   "source": [
    "For the time being we will limit ourselfs to a basic analysis.\n",
    "\n",
    "We'll provide the referenc package that we have produced and the query alignment. Further details:\n",
    "```bash\n",
    "!pplacer \\ #call pplacer\n",
    "-c Notostraca_COI.refpkg/ \\ #point to refpkg\n",
    "Notostraca_ref_plus_random_query.sto \\ # profile alignment\n",
    "-p \\ #report posterior propabilities\n",
    "--keep-at-most 3 \\ #keep at most 3 assignments per query\n",
    "-o queries.jplace \\ #write output to this file\n",
    "```"
   ]
  },
  {
   "cell_type": "code",
   "execution_count": null,
   "metadata": {
    "collapsed": true
   },
   "outputs": [],
   "source": [
    "!pplacer -c Notostraca_COI.refpkg/ Notostraca_ref_plus_random_query.sto -p --keep-at-most 3 -o queries.jplace"
   ]
  },
  {
   "cell_type": "markdown",
   "metadata": {
    "collapsed": true
   },
   "source": [
    "`pplacer` has its own extensive format to describe placements ('the placement file'). Have a look inside and if you want. It also provides a tool for the (comparative) analyis of placement files called `guppy` ('Grand Unified Phylogenetic Placement Yanalyzer'). Again, this is a tool with extensive functionality (see [here](http://matsen.github.io/pplacer/generated_rst/guppy.html) that is beyond the scope of this introductionary course.\n",
    "\n",
    "However, because pplacer has its own format that can only be analysed by `guppy` and other tools from the `pplacer` suite, we provide a script that converts place files to the standardized [biom format](http://biom-format.org/), which can be interpreted by a number of tools, including [qiime](http://qiime.org/).\n",
    "\n"
   ]
  },
  {
   "cell_type": "code",
   "execution_count": null,
   "metadata": {
    "collapsed": true
   },
   "outputs": [],
   "source": [
    "!jplace_to_biom.py -h"
   ]
  },
  {
   "cell_type": "markdown",
   "metadata": {},
   "source": [
    "Convert the placefile to [biom](http://biom-format.org/) format like so:\n"
   ]
  },
  {
   "cell_type": "code",
   "execution_count": null,
   "metadata": {
    "collapsed": true
   },
   "outputs": [],
   "source": [
    "!jplace_to_biom.py -p pplace -j queries.jplace "
   ]
  },
  {
   "cell_type": "markdown",
   "metadata": {},
   "source": [
    "This produces 2 files `pplace.biom` and `pplace.tsv`. The latter is a a simple tab-delimited file that you can open with any txt editor or e.g. excel.\n",
    "\n",
    "`pplace.biom` is less human-readable..\n"
   ]
  },
  {
   "cell_type": "code",
   "execution_count": null,
   "metadata": {
    "collapsed": true
   },
   "outputs": [],
   "source": [
    "!cat pplace.biom"
   ]
  },
  {
   "cell_type": "markdown",
   "metadata": {},
   "source": [
    "However, there is resources like [phinch](http://phinch.org/index.html) out there to vizualize the contents of biom tables. \n",
    "\n",
    "__GIVE IT A TRY__ and explore the results of this analysis in [phinch](http://phinch.org/index.html).\n",
    "\n",
    "#WELL DONE!#\n",
    "\n"
   ]
  }
 ],
 "metadata": {
  "kernelspec": {
   "display_name": "Python 2",
   "language": "python",
   "name": "python2"
  },
  "language_info": {
   "codemirror_mode": {
    "name": "ipython",
    "version": 2
   },
   "file_extension": ".py",
   "mimetype": "text/x-python",
   "name": "python",
   "nbconvert_exporter": "python",
   "pygments_lexer": "ipython2",
   "version": "2.7.6"
  }
 },
 "nbformat": 4,
 "nbformat_minor": 0
}
