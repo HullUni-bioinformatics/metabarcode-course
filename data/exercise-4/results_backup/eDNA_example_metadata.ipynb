{
 "cells": [
  {
   "cell_type": "markdown",
   "metadata": {},
   "source": [
    "#Cumbrian Lake eDNA metabarcoding data \n",
    "\n",
    "In this exercise we will use [metaBEAT](https://github.com/HullUni-bioinformatics/metaBEAT), a tool tailored towards reproducible and efficient analyses of metabarcoding data that we have developed in-house. It is still under active development and will likely be extended further in the future. The pipeline is available in a Docker [container](https://registry.hub.docker.com/u/chrishah/metabeat2/) with all necessary dependencies. The Docker image is building on [ReproPhylo](https://registry.hub.docker.com/u/szitenberg/reprophylo/).\n",
    "\n",
    "The data we will be analyzing are CytB sequences amplified from eDNA samples collected from 3 Cumbrian lakes in the Lake district - Lake Windermere, Derwent water and Basenthwaite lake. The experiment was designed to assess the potential of the eDNA approach to assess fish community compositions. A manuscript (Haenfling et al.) is in preparation. \n",
    "For the purpose of the exercise we will attempt BLAST based taxonomic assignment. The metaBEAT tool is designed as a wrapper around a complete analysis from raw data, performing (optionally) de-multiplexing, quality filtering, clustering along the way, to OTU tables in biom format. It currently supports BLAST and phylogenetic placement (pplacer). The plan is to include further approaches in the future and to allow for efficient and standardized comparative assessments of all approaches. \n",
    "\n",
    "We will be analyzing a total of 79 individual samples sequenced on the Illumina MiSeq platform.\n",
    "\n",
    "metBEAT offers a large number of options. Most of them will sound familiar and should make sense to you given your experience from the course so far. \n"
   ]
  },
  {
   "cell_type": "code",
   "execution_count": null,
   "metadata": {
    "collapsed": true
   },
   "outputs": [],
   "source": [
    "!metaBEAT.py -h"
   ]
  },
  {
   "cell_type": "markdown",
   "metadata": {},
   "source": [
    "We will limit ourselves to a basic analysis for now.\n",
    "\n",
    "\n",
    "Minimal input for an analysis is a set of reference sequences in one or several files (could be mixing several formats, e.g. `fasta` and `genbank`) and a set of query sequences, again potentially one to many. These will be run through the pipeline sequentially. \n",
    "You will need to provide information on the nature and location of the reference and query sequences in separate tab-delimited text files via the `-R` and `-Q` flags, respectively.\n",
    "\n",
    "The format for the Reference file is:\n",
    "\n",
    "`/path/to/file <tab> format`\n",
    "\n",
    "You may generate the required text files in any text editor. \n",
    "A simple example of how to produce a file pointing to your reference sequences in the `data` directory using your command line skills could be:"
   ]
  },
  {
   "cell_type": "code",
   "execution_count": 4,
   "metadata": {
    "collapsed": false
   },
   "outputs": [],
   "source": [
    "!echo \"data/CytB_cleaned_05_2015.gb\\tgb\" > REFmap.txt"
   ]
  },
  {
   "cell_type": "markdown",
   "metadata": {},
   "source": [
    "You will have to produce a similar file for the query sequences, again tab-delimited:\n",
    "\n",
    "`sample_ID <tab> format <tab> file1 <tab> file2 <tab> optionally barcodes`\n",
    "\n",
    "Let's use a mini python script to write the required information into a text file, which I will call `Querymap.txt`"
   ]
  },
  {
   "cell_type": "code",
   "execution_count": 42,
   "metadata": {
    "collapsed": false
   },
   "outputs": [],
   "source": [
    "import os\n",
    "\n",
    "out_list = []\n",
    "string = ''\n",
    "datadir = 'data/sequences'\n",
    "files = os.listdir(datadir)\n",
    "for f in sorted(files):\n",
    "    if '_R1_' in f:\n",
    "        string += \"%s\\tfastq\\t%s/%s\\t%s/%s\" %(f[:3], datadir, f, datadir, f.replace('_R1_', '_R2_'))+'\\n'\n",
    "\n",
    "out = open('Querymap.txt', 'w')\n",
    "out.write(string)\n",
    "out.close()"
   ]
  },
  {
   "cell_type": "markdown",
   "metadata": {},
   "source": [
    "Have a look:"
   ]
  },
  {
   "cell_type": "code",
   "execution_count": 48,
   "metadata": {
    "collapsed": false,
    "scrolled": false
   },
   "outputs": [
    {
     "name": "stdout",
     "output_type": "stream",
     "text": [
      "A01\tfastq\tdata/sequences/A01D_S1_L001_R1_001.fastq.gz\tdata/sequences/A01D_S1_L001_R2_001.fastq.gz\r\n",
      "A02\tfastq\tdata/sequences/A02D_S2_L001_R1_001.fastq.gz\tdata/sequences/A02D_S2_L001_R2_001.fastq.gz\r\n",
      "A03\tfastq\tdata/sequences/A03D_S3_L001_R1_001.fastq.gz\tdata/sequences/A03D_S3_L001_R2_001.fastq.gz\r\n",
      "A04\tfastq\tdata/sequences/A04D_S4_L001_R1_001.fastq.gz\tdata/sequences/A04D_S4_L001_R2_001.fastq.gz\r\n",
      "A05\tfastq\tdata/sequences/A05D_S5_L001_R1_001.fastq.gz\tdata/sequences/A05D_S5_L001_R2_001.fastq.gz\r\n",
      "A06\tfastq\tdata/sequences/A06D_S6_L001_R1_001.fastq.gz\tdata/sequences/A06D_S6_L001_R2_001.fastq.gz\r\n",
      "A07\tfastq\tdata/sequences/A07D_S7_L001_R1_001.fastq.gz\tdata/sequences/A07D_S7_L001_R2_001.fastq.gz\r\n",
      "A08\tfastq\tdata/sequences/A08D_S8_L001_R1_001.fastq.gz\tdata/sequences/A08D_S8_L001_R2_001.fastq.gz\r\n",
      "A09\tfastq\tdata/sequences/A09D_S9_L001_R1_001.fastq.gz\tdata/sequences/A09D_S9_L001_R2_001.fastq.gz\r\n",
      "A10\tfastq\tdata/sequences/A10D_S10_L001_R1_001.fastq.gz\tdata/sequences/A10D_S10_L001_R2_001.fastq.gz\r\n",
      "B01\tfastq\tdata/sequences/B01D_S13_L001_R1_001.fastq.gz\tdata/sequences/B01D_S13_L001_R2_001.fastq.gz\r\n",
      "B02\tfastq\tdata/sequences/B02D_S14_L001_R1_001.fastq.gz\tdata/sequences/B02D_S14_L001_R2_001.fastq.gz\r\n",
      "B03\tfastq\tdata/sequences/B03D_S15_L001_R1_001.fastq.gz\tdata/sequences/B03D_S15_L001_R2_001.fastq.gz\r\n",
      "B04\tfastq\tdata/sequences/B04D_S16_L001_R1_001.fastq.gz\tdata/sequences/B04D_S16_L001_R2_001.fastq.gz\r\n",
      "B05\tfastq\tdata/sequences/B05D_S17_L001_R1_001.fastq.gz\tdata/sequences/B05D_S17_L001_R2_001.fastq.gz\r\n",
      "B06\tfastq\tdata/sequences/B06D_S18_L001_R1_001.fastq.gz\tdata/sequences/B06D_S18_L001_R2_001.fastq.gz\r\n",
      "B07\tfastq\tdata/sequences/B07D_S19_L001_R1_001.fastq.gz\tdata/sequences/B07D_S19_L001_R2_001.fastq.gz\r\n",
      "B08\tfastq\tdata/sequences/B08D_S20_L001_R1_001.fastq.gz\tdata/sequences/B08D_S20_L001_R2_001.fastq.gz\r\n",
      "B09\tfastq\tdata/sequences/B09D_S21_L001_R1_001.fastq.gz\tdata/sequences/B09D_S21_L001_R2_001.fastq.gz\r\n",
      "B10\tfastq\tdata/sequences/B10D_S22_L001_R1_001.fastq.gz\tdata/sequences/B10D_S22_L001_R2_001.fastq.gz\r\n",
      "C01\tfastq\tdata/sequences/C01D_S25_L001_R1_001.fastq.gz\tdata/sequences/C01D_S25_L001_R2_001.fastq.gz\r\n",
      "C02\tfastq\tdata/sequences/C02D_S26_L001_R1_001.fastq.gz\tdata/sequences/C02D_S26_L001_R2_001.fastq.gz\r\n",
      "C03\tfastq\tdata/sequences/C03D_S27_L001_R1_001.fastq.gz\tdata/sequences/C03D_S27_L001_R2_001.fastq.gz\r\n",
      "C04\tfastq\tdata/sequences/C04D_S28_L001_R1_001.fastq.gz\tdata/sequences/C04D_S28_L001_R2_001.fastq.gz\r\n",
      "C05\tfastq\tdata/sequences/C05D_S29_L001_R1_001.fastq.gz\tdata/sequences/C05D_S29_L001_R2_001.fastq.gz\r\n",
      "C06\tfastq\tdata/sequences/C06D_S30_L001_R1_001.fastq.gz\tdata/sequences/C06D_S30_L001_R2_001.fastq.gz\r\n",
      "C07\tfastq\tdata/sequences/C07D_S31_L001_R1_001.fastq.gz\tdata/sequences/C07D_S31_L001_R2_001.fastq.gz\r\n",
      "C08\tfastq\tdata/sequences/C08D_S32_L001_R1_001.fastq.gz\tdata/sequences/C08D_S32_L001_R2_001.fastq.gz\r\n",
      "C09\tfastq\tdata/sequences/C09D_S33_L001_R1_001.fastq.gz\tdata/sequences/C09D_S33_L001_R2_001.fastq.gz\r\n",
      "C10\tfastq\tdata/sequences/C10D_S34_L001_R1_001.fastq.gz\tdata/sequences/C10D_S34_L001_R2_001.fastq.gz\r\n",
      "D01\tfastq\tdata/sequences/D01D_S37_L001_R1_001.fastq.gz\tdata/sequences/D01D_S37_L001_R2_001.fastq.gz\r\n",
      "D02\tfastq\tdata/sequences/D02D_S38_L001_R1_001.fastq.gz\tdata/sequences/D02D_S38_L001_R2_001.fastq.gz\r\n",
      "D03\tfastq\tdata/sequences/D03D_S39_L001_R1_001.fastq.gz\tdata/sequences/D03D_S39_L001_R2_001.fastq.gz\r\n",
      "D04\tfastq\tdata/sequences/D04D_S40_L001_R1_001.fastq.gz\tdata/sequences/D04D_S40_L001_R2_001.fastq.gz\r\n",
      "D05\tfastq\tdata/sequences/D05D_S41_L001_R1_001.fastq.gz\tdata/sequences/D05D_S41_L001_R2_001.fastq.gz\r\n",
      "D06\tfastq\tdata/sequences/D06D_S42_L001_R1_001.fastq.gz\tdata/sequences/D06D_S42_L001_R2_001.fastq.gz\r\n",
      "D07\tfastq\tdata/sequences/D07D_S43_L001_R1_001.fastq.gz\tdata/sequences/D07D_S43_L001_R2_001.fastq.gz\r\n",
      "D08\tfastq\tdata/sequences/D08D_S44_L001_R1_001.fastq.gz\tdata/sequences/D08D_S44_L001_R2_001.fastq.gz\r\n",
      "D09\tfastq\tdata/sequences/D09D_S45_L001_R1_001.fastq.gz\tdata/sequences/D09D_S45_L001_R2_001.fastq.gz\r\n",
      "D10\tfastq\tdata/sequences/D10D_S46_L001_R1_001.fastq.gz\tdata/sequences/D10D_S46_L001_R2_001.fastq.gz\r\n",
      "E01\tfastq\tdata/sequences/E01D_S49_L001_R1_001.fastq.gz\tdata/sequences/E01D_S49_L001_R2_001.fastq.gz\r\n",
      "E02\tfastq\tdata/sequences/E02D_S50_L001_R1_001.fastq.gz\tdata/sequences/E02D_S50_L001_R2_001.fastq.gz\r\n",
      "E03\tfastq\tdata/sequences/E03D_S51_L001_R1_001.fastq.gz\tdata/sequences/E03D_S51_L001_R2_001.fastq.gz\r\n",
      "E04\tfastq\tdata/sequences/E04D_S52_L001_R1_001.fastq.gz\tdata/sequences/E04D_S52_L001_R2_001.fastq.gz\r\n",
      "E05\tfastq\tdata/sequences/E05D_S53_L001_R1_001.fastq.gz\tdata/sequences/E05D_S53_L001_R2_001.fastq.gz\r\n",
      "E06\tfastq\tdata/sequences/E06D_S54_L001_R1_001.fastq.gz\tdata/sequences/E06D_S54_L001_R2_001.fastq.gz\r\n",
      "E07\tfastq\tdata/sequences/E07D_S55_L001_R1_001.fastq.gz\tdata/sequences/E07D_S55_L001_R2_001.fastq.gz\r\n",
      "E08\tfastq\tdata/sequences/E08D_S56_L001_R1_001.fastq.gz\tdata/sequences/E08D_S56_L001_R2_001.fastq.gz\r\n",
      "E09\tfastq\tdata/sequences/E09D_S57_L001_R1_001.fastq.gz\tdata/sequences/E09D_S57_L001_R2_001.fastq.gz\r\n",
      "E10\tfastq\tdata/sequences/E10D_S58_L001_R1_001.fastq.gz\tdata/sequences/E10D_S58_L001_R2_001.fastq.gz\r\n",
      "F01\tfastq\tdata/sequences/F01D_S61_L001_R1_001.fastq.gz\tdata/sequences/F01D_S61_L001_R2_001.fastq.gz\r\n",
      "F02\tfastq\tdata/sequences/F02D_S62_L001_R1_001.fastq.gz\tdata/sequences/F02D_S62_L001_R2_001.fastq.gz\r\n",
      "F03\tfastq\tdata/sequences/F03D_S63_L001_R1_001.fastq.gz\tdata/sequences/F03D_S63_L001_R2_001.fastq.gz\r\n",
      "F04\tfastq\tdata/sequences/F04D_S64_L001_R1_001.fastq.gz\tdata/sequences/F04D_S64_L001_R2_001.fastq.gz\r\n",
      "F05\tfastq\tdata/sequences/F05D_S65_L001_R1_001.fastq.gz\tdata/sequences/F05D_S65_L001_R2_001.fastq.gz\r\n",
      "F06\tfastq\tdata/sequences/F06D_S66_L001_R1_001.fastq.gz\tdata/sequences/F06D_S66_L001_R2_001.fastq.gz\r\n",
      "F07\tfastq\tdata/sequences/F07D_S67_L001_R1_001.fastq.gz\tdata/sequences/F07D_S67_L001_R2_001.fastq.gz\r\n",
      "F08\tfastq\tdata/sequences/F08D_S68_L001_R1_001.fastq.gz\tdata/sequences/F08D_S68_L001_R2_001.fastq.gz\r\n",
      "F09\tfastq\tdata/sequences/F09D_S69_L001_R1_001.fastq.gz\tdata/sequences/F09D_S69_L001_R2_001.fastq.gz\r\n",
      "F10\tfastq\tdata/sequences/F10D_S70_L001_R1_001.fastq.gz\tdata/sequences/F10D_S70_L001_R2_001.fastq.gz\r\n",
      "G01\tfastq\tdata/sequences/G01D_S73_L001_R1_001.fastq.gz\tdata/sequences/G01D_S73_L001_R2_001.fastq.gz\r\n",
      "G02\tfastq\tdata/sequences/G02D_S74_L001_R1_001.fastq.gz\tdata/sequences/G02D_S74_L001_R2_001.fastq.gz\r\n",
      "G03\tfastq\tdata/sequences/G03D_S75_L001_R1_001.fastq.gz\tdata/sequences/G03D_S75_L001_R2_001.fastq.gz\r\n",
      "G04\tfastq\tdata/sequences/G04D_S76_L001_R1_001.fastq.gz\tdata/sequences/G04D_S76_L001_R2_001.fastq.gz\r\n",
      "G05\tfastq\tdata/sequences/G05D_S77_L001_R1_001.fastq.gz\tdata/sequences/G05D_S77_L001_R2_001.fastq.gz\r\n",
      "G06\tfastq\tdata/sequences/G06D_S78_L001_R1_001.fastq.gz\tdata/sequences/G06D_S78_L001_R2_001.fastq.gz\r\n",
      "G07\tfastq\tdata/sequences/G07D_S79_L001_R1_001.fastq.gz\tdata/sequences/G07D_S79_L001_R2_001.fastq.gz\r\n",
      "G08\tfastq\tdata/sequences/G08D_S80_L001_R1_001.fastq.gz\tdata/sequences/G08D_S80_L001_R2_001.fastq.gz\r\n",
      "G09\tfastq\tdata/sequences/G09D_S81_L001_R1_001.fastq.gz\tdata/sequences/G09D_S81_L001_R2_001.fastq.gz\r\n",
      "G10\tfastq\tdata/sequences/G10D_S82_L001_R1_001.fastq.gz\tdata/sequences/G10D_S82_L001_R2_001.fastq.gz\r\n",
      "H01\tfastq\tdata/sequences/H01D_S85_L001_R1_001.fastq.gz\tdata/sequences/H01D_S85_L001_R2_001.fastq.gz\r\n",
      "H02\tfastq\tdata/sequences/H02D_S86_L001_R1_001.fastq.gz\tdata/sequences/H02D_S86_L001_R2_001.fastq.gz\r\n",
      "H03\tfastq\tdata/sequences/H03D_S87_L001_R1_001.fastq.gz\tdata/sequences/H03D_S87_L001_R2_001.fastq.gz\r\n",
      "H04\tfastq\tdata/sequences/H04D_S88_L001_R1_001.fastq.gz\tdata/sequences/H04D_S88_L001_R2_001.fastq.gz\r\n",
      "H05\tfastq\tdata/sequences/H05D_S89_L001_R1_001.fastq.gz\tdata/sequences/H05D_S89_L001_R2_001.fastq.gz\r\n",
      "H06\tfastq\tdata/sequences/H06D_S90_L001_R1_001.fastq.gz\tdata/sequences/H06D_S90_L001_R2_001.fastq.gz\r\n",
      "H07\tfastq\tdata/sequences/H07D_S91_L001_R1_001.fastq.gz\tdata/sequences/H07D_S91_L001_R2_001.fastq.gz\r\n",
      "H08\tfastq\tdata/sequences/H08D_S92_L001_R1_001.fastq.gz\tdata/sequences/H08D_S92_L001_R2_001.fastq.gz\r\n",
      "H09\tfastq\tdata/sequences/H09D_S93_L001_R1_001.fastq.gz\tdata/sequences/H09D_S93_L001_R2_001.fastq.gz\r\n"
     ]
    }
   ],
   "source": [
    "!cat Querymap.txt"
   ]
  },
  {
   "cell_type": "markdown",
   "metadata": {},
   "source": [
    "metaBEAT also allows to link metadata to your samples. Metadata in our case will simply link the samples to certain lakes. A comma-separated file is present in your `data` directory. You could produce this in your favourite text editor, excel or whatever else."
   ]
  },
  {
   "cell_type": "code",
   "execution_count": 46,
   "metadata": {
    "collapsed": false
   },
   "outputs": [
    {
     "name": "stdout",
     "output_type": "stream",
     "text": [
      "sample_ID,water body\r\n",
      "A01,Windermere N basin\r\n",
      "A02,Windermere N basin\r\n",
      "A03,Windermere S basin\r\n",
      "A04,Windermere S basin\r\n",
      "A05,Windermere N basin\r\n",
      "A06,Windermere S basin\r\n",
      "A07,Windermere N basin\r\n",
      "A08,Windermere N basin\r\n",
      "A09,Windermere S basin\r\n"
     ]
    }
   ],
   "source": [
    "!head data/example_metadata_basic.csv"
   ]
  },
  {
   "cell_type": "code",
   "execution_count": null,
   "metadata": {
    "collapsed": true
   },
   "outputs": [],
   "source": [
    "!metaBEAT.py -Q Querymap.txt -R REFmap.txt --blast --taxids --merge --cluster --clust_cov 3 -E --metadata data/example_metadata_basic.csv -o eDNA_blast_lake_metadata"
   ]
  },
  {
   "cell_type": "markdown",
   "metadata": {},
   "source": [
    "This will run for about 2 hours and hopefully produce a bunch of directories and a result OTU table in `eDNA_blast_lake_metadata.biom` and `eDNA_blast_lake_metadata.tsv`.\n",
    "\n",
    "Import and explore the `eDNA_blast_lake_metadata.biom` file using e.g. [phinch](http://phinch.org/index.html).\n",
    "\n",
    "__WELL DONE!__"
   ]
  }
 ],
 "metadata": {
  "kernelspec": {
   "display_name": "Python 2",
   "language": "python",
   "name": "python2"
  },
  "language_info": {
   "codemirror_mode": {
    "name": "ipython",
    "version": 2
   },
   "file_extension": ".py",
   "mimetype": "text/x-python",
   "name": "python",
   "nbconvert_exporter": "python",
   "pygments_lexer": "ipython2",
   "version": "2.7.6"
  }
 },
 "nbformat": 4,
 "nbformat_minor": 0
}
