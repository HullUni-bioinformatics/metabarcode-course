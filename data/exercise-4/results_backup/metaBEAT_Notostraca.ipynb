{
 "cells": [
  {
   "cell_type": "markdown",
   "metadata": {
    "collapsed": false
   },
   "source": [
    "#walkthrough exercise 4#\n",
    "\n",
    "We want to run the metaBEAT pipeline to do taxonomic assignment for the 100 unknown _Notostraca_ query sequences that you have encountert before in exercise 2.\n",
    "\n",
    "First you will need to generate a `Reference file` and a `query file` which will be used as 'maps' for metaBEAT in order to find the files you would like to use in your analyses.\n",
    "\n",
    "Locate your data using your command line skills. List the content of the data directory."
   ]
  },
  {
   "cell_type": "code",
   "execution_count": null,
   "metadata": {
    "collapsed": true
   },
   "outputs": [],
   "source": [
    "!ls data/"
   ]
  },
  {
   "cell_type": "markdown",
   "metadata": {},
   "source": [
    "Let's generate the required files on the command line (you could also do that in a simple txt editor). You could name them anything you want, as long as you adjust the name in the command further down."
   ]
  },
  {
   "cell_type": "code",
   "execution_count": null,
   "metadata": {
    "collapsed": true
   },
   "outputs": [],
   "source": [
    "!echo -e \"query\\tfastas\\tdata/Notostraca_random_queries.fasta\" > QUERYfile #write queryfile\n",
    "!echo -e \"data/Notostraca_COI_without_random.gb\\tgb\" > REFfile #write reffile"
   ]
  },
  {
   "cell_type": "markdown",
   "metadata": {},
   "source": [
    "Print out the content of the two files just to doublecheck."
   ]
  },
  {
   "cell_type": "code",
   "execution_count": null,
   "metadata": {
    "collapsed": true
   },
   "outputs": [],
   "source": [
    "!cat QUERYfile"
   ]
  },
  {
   "cell_type": "code",
   "execution_count": null,
   "metadata": {
    "collapsed": true
   },
   "outputs": [],
   "source": [
    "!cat REFfile"
   ]
  },
  {
   "cell_type": "markdown",
   "metadata": {},
   "source": [
    "All good? __Now__, let's set metaBEAT to perform both BLAST-based and Phylogenetic placement based assignments. \n",
    "\n",
    "This can be done in a single command like so:\n"
   ]
  },
  {
   "cell_type": "code",
   "execution_count": null,
   "metadata": {
    "collapsed": true
   },
   "outputs": [],
   "source": [
    "!metaBEAT.py -Q QUERYfile -R REFfile --taxid --blast --phyloplace --refpkg data/Notostraca_COI.refpkg/ --min_ident 0.85 -o Notostraca_queries"
   ]
  },
  {
   "cell_type": "markdown",
   "metadata": {},
   "source": [
    "Explanation for the paramters used in above the command:\n",
    "\n",
    "```bash\n",
    "!metaBEAT.py \\ #call the metaBEAT pipeline (NOTE: the '!' is only needed in a jupyter notebook to indicate a shell command\n",
    "-Q \\ #tab delimited txt file that contains instructions on the name and location of your queries\n",
    "-R \\ #tab delimimted txt file that contains info on the location and format of your reference sequences\n",
    "--taxids \\ #\n",
    "--blast \\ #attempt BLAST based assignment\n",
    "--min-ident \\ #only attempt BLAST based assignment for queries with a top hit of at least this similarity\n",
    "--phyloplace \\ #attempt assignment by phylogenetic placement (currenlty pplacer)\n",
    "--refpkg \\ #provide reference package for pplacer\n",
    "-o \\ #specify a prefix for the outputs to be written\n",
    "```"
   ]
  },
  {
   "cell_type": "markdown",
   "metadata": {},
   "source": [
    "__metaBEAT__ will output a lot of information on what it's doing onto the screen it. Try to recapitulate the steps based on your previous experience. \n",
    "\n",
    "If it completes successfully it will also have written the final result as tables in `tsv` and `biom` formats. Try to display the contents of these files with your command line skills (tip: e.g. `cat`).\n",
    "\n",
    "The `tsv` file is simply a tab-delimited text file. That you could also open in excel or alike."
   ]
  },
  {
   "cell_type": "code",
   "execution_count": null,
   "metadata": {
    "collapsed": true
   },
   "outputs": [],
   "source": [
    "!cat Notostraca_queries.tsv"
   ]
  },
  {
   "cell_type": "code",
   "execution_count": null,
   "metadata": {
    "collapsed": true
   },
   "outputs": [],
   "source": [
    "!cat Notostraca_queries.biom"
   ]
  },
  {
   "cell_type": "markdown",
   "metadata": {},
   "source": [
    "The `biom` file is actually a lot less human-readable, but you can use [phinch](http://phinch.org/index.html) to vizualize the results. ENJOY!"
   ]
  }
 ],
 "metadata": {
  "kernelspec": {
   "display_name": "Python 2",
   "language": "python",
   "name": "python2"
  },
  "language_info": {
   "codemirror_mode": {
    "name": "ipython",
    "version": 2
   },
   "file_extension": ".py",
   "mimetype": "text/x-python",
   "name": "python",
   "nbconvert_exporter": "python",
   "pygments_lexer": "ipython2",
   "version": "2.7.6"
  }
 },
 "nbformat": 4,
 "nbformat_minor": 0
}
